{
  "nbformat": 4,
  "nbformat_minor": 0,
  "metadata": {
    "accelerator": "GPU",
    "colab": {
      "name": "Algard Project_2_NLP.ipynb",
      "provenance": [],
      "include_colab_link": true
    },
    "kernelspec": {
      "display_name": "Python 3",
      "name": "python3"
    },
    "language_info": {
      "name": "python"
    }
  },
  "cells": [
    {
      "cell_type": "markdown",
      "metadata": {
        "id": "view-in-github",
        "colab_type": "text"
      },
      "source": [
        "<a href=\"https://colab.research.google.com/github/balgard/Card-King/blob/master/Algard_Project_2_NLP.ipynb\" target=\"_parent\"><img src=\"https://colab.research.google.com/assets/colab-badge.svg\" alt=\"Open In Colab\"/></a>"
      ]
    },
    {
      "cell_type": "markdown",
      "metadata": {
        "id": "vu0Kz0Nq4ui4"
      },
      "source": [
        "# Brendan Algard Project 2\n",
        "Your project should address the categories below. \n",
        "##Points:9/18\n",
        "Explore data +5 \\\n",
        "Data Prep +1 \\\n",
        "Metrics +1 \\\n",
        "Model Planning +1 \\\n",
        "SVC +1 \\\n",
        "\n",
        "## Problem:\n",
        "\n"
      ]
    },
    {
      "cell_type": "markdown",
      "metadata": {
        "id": "Gz1FwoMm5WRY"
      },
      "source": [
        "Metrics [1]: I'll use the classification report function from sci-kit learn, this includes the precision, recall, f1-score, and support metrics.  I'll also use accuracy because it's a simple metric even if it's not that great.  I'm using the others because they are the most commonly used metrics for classification and I think the classification report is a neat tool I haven't used yet. \\\n",
        "\n",
        "Model Planning and Execution [1]:\n",
        "- SVC: This took too long to run, no parameters tuned as a result\n",
        "- PCA: Number of components\n",
        "- Perceptron: Max iterations and alpha\n",
        "- MLP: Layers\n",
        "\n",
        "Bumps in the Road [1 point]: What challenges did you encounter? How did you overcome these challenges? Did you have to adapt your strategy to account for these challenges? Why or why not? \\\n",
        "Results [1 point]: After you conduct your learning experiment, summarize the results you got. Include visualizations as appropriate. \\\n",
        "Conclusions: What insights/recommendations do you have? What did you find that was interesting? Which model was your best model, which models didn't work well? Why do you think this is? In general, I want a discussion of your experiment, the results, and what they mean."
      ]
    },
    {
      "cell_type": "code",
      "metadata": {
        "id": "lkstiZPQk53I"
      },
      "source": [
        "import pandas as pd\n",
        "from google.colab import drive\n",
        "from bs4 import BeautifulSoup\n",
        "import re\n",
        "import nltk\n",
        "from nltk.corpus import stopwords\n",
        "from sklearn.model_selection import train_test_split\n",
        "from sklearn.feature_extraction.text import CountVectorizer \n",
        "import keras\n",
        "from sklearn.metrics import accuracy_score\n",
        "from sklearn.metrics import confusion_matrix\n",
        "import numpy as np\n",
        "from sklearn.svm import SVC\n",
        "from sklearn import metrics\n",
        "import matplotlib.pyplot as plt\n",
        "from itertools import product\n",
        "%matplotlib inline\n",
        "from sklearn.linear_model import Perceptron\n",
        "from sklearn.linear_model import SGDClassifier\n",
        "import warnings\n",
        "from sklearn.decomposition import PCA"
      ],
      "execution_count": 1,
      "outputs": []
    },
    {
      "cell_type": "code",
      "metadata": {
        "colab": {
          "base_uri": "https://localhost:8080/"
        },
        "id": "Xmi6uzK7lGR-",
        "outputId": "5e906d13-9973-4ccf-fac9-0586d8fa9ceb"
      },
      "source": [
        "nltk.download() #in Corpora tab, download stopwords"
      ],
      "execution_count": 11,
      "outputs": [
        {
          "output_type": "stream",
          "text": [
            "NLTK Downloader\n",
            "---------------------------------------------------------------------------\n",
            "    d) Download   l) List    u) Update   c) Config   h) Help   q) Quit\n",
            "---------------------------------------------------------------------------\n",
            "Downloader> d\n",
            "\n",
            "Download which package (l=list; x=cancel)?\n",
            "  Identifier> stopwords\n",
            "    Downloading package stopwords to /root/nltk_data...\n",
            "      Unzipping corpora/stopwords.zip.\n",
            "\n",
            "---------------------------------------------------------------------------\n",
            "    d) Download   l) List    u) Update   c) Config   h) Help   q) Quit\n",
            "---------------------------------------------------------------------------\n",
            "Downloader> q\n"
          ],
          "name": "stdout"
        },
        {
          "output_type": "execute_result",
          "data": {
            "text/plain": [
              "True"
            ]
          },
          "metadata": {
            "tags": []
          },
          "execution_count": 11
        }
      ]
    },
    {
      "cell_type": "markdown",
      "metadata": {
        "id": "NBZAVjcWhgBV"
      },
      "source": [
        "# Input Pipeline (sklearn):"
      ]
    },
    {
      "cell_type": "code",
      "metadata": {
        "colab": {
          "base_uri": "https://localhost:8080/",
          "height": 221
        },
        "id": "12XGv2fIfTSr",
        "outputId": "f7e19e0f-fcb3-400d-9415-e0c1c1848286"
      },
      "source": [
        "drive.mount('/content/drive')\n",
        "data = pd.read_csv('/content/drive/MyDrive/CS_167_Files/CS_167_Data/IMDB_Dataset.csv')\n",
        "data.head()"
      ],
      "execution_count": 3,
      "outputs": [
        {
          "output_type": "stream",
          "text": [
            "Mounted at /content/drive\n"
          ],
          "name": "stdout"
        },
        {
          "output_type": "execute_result",
          "data": {
            "text/html": [
              "<div>\n",
              "<style scoped>\n",
              "    .dataframe tbody tr th:only-of-type {\n",
              "        vertical-align: middle;\n",
              "    }\n",
              "\n",
              "    .dataframe tbody tr th {\n",
              "        vertical-align: top;\n",
              "    }\n",
              "\n",
              "    .dataframe thead th {\n",
              "        text-align: right;\n",
              "    }\n",
              "</style>\n",
              "<table border=\"1\" class=\"dataframe\">\n",
              "  <thead>\n",
              "    <tr style=\"text-align: right;\">\n",
              "      <th></th>\n",
              "      <th>review</th>\n",
              "      <th>sentiment</th>\n",
              "    </tr>\n",
              "  </thead>\n",
              "  <tbody>\n",
              "    <tr>\n",
              "      <th>0</th>\n",
              "      <td>One of the other reviewers has mentioned that ...</td>\n",
              "      <td>positive</td>\n",
              "    </tr>\n",
              "    <tr>\n",
              "      <th>1</th>\n",
              "      <td>A wonderful little production. &lt;br /&gt;&lt;br /&gt;The...</td>\n",
              "      <td>positive</td>\n",
              "    </tr>\n",
              "    <tr>\n",
              "      <th>2</th>\n",
              "      <td>I thought this was a wonderful way to spend ti...</td>\n",
              "      <td>positive</td>\n",
              "    </tr>\n",
              "    <tr>\n",
              "      <th>3</th>\n",
              "      <td>Basically there's a family where a little boy ...</td>\n",
              "      <td>negative</td>\n",
              "    </tr>\n",
              "    <tr>\n",
              "      <th>4</th>\n",
              "      <td>Petter Mattei's \"Love in the Time of Money\" is...</td>\n",
              "      <td>positive</td>\n",
              "    </tr>\n",
              "  </tbody>\n",
              "</table>\n",
              "</div>"
            ],
            "text/plain": [
              "                                              review sentiment\n",
              "0  One of the other reviewers has mentioned that ...  positive\n",
              "1  A wonderful little production. <br /><br />The...  positive\n",
              "2  I thought this was a wonderful way to spend ti...  positive\n",
              "3  Basically there's a family where a little boy ...  negative\n",
              "4  Petter Mattei's \"Love in the Time of Money\" is...  positive"
            ]
          },
          "metadata": {
            "tags": []
          },
          "execution_count": 3
        }
      ]
    },
    {
      "cell_type": "markdown",
      "metadata": {
        "id": "ICUC-PvQ5bP2"
      },
      "source": [
        "## Data Exploration:\n",
        "- Number of samples\n",
        "- Number of classes of the target variable\n",
        "- Number of words per sample\n",
        "- Distribution of sample length\n",
        "- Something else: get creative :) \n",
        "- I decided to look at the mean/median of the word counts of both positive and negative reviews\n",
        " - This proved unhelpful so I looked at the number of unique words in different sentiments\n",
        " - I hoped that either a negative or positive review would have a signifigantly different word count than the other\n",
        " - That wasn't the case"
      ]
    },
    {
      "cell_type": "code",
      "metadata": {
        "colab": {
          "base_uri": "https://localhost:8080/",
          "height": 282
        },
        "id": "9kkCmgdf5ZqB",
        "outputId": "736b6bb9-1bfd-4c8d-8bc8-0f3cd557eea9"
      },
      "source": [
        "## Use cells here to explore the data:\n",
        "data.sentiment.hist()\n"
      ],
      "execution_count": 4,
      "outputs": [
        {
          "output_type": "execute_result",
          "data": {
            "text/plain": [
              "<matplotlib.axes._subplots.AxesSubplot at 0x7fdc4e503750>"
            ]
          },
          "metadata": {
            "tags": []
          },
          "execution_count": 4
        },
        {
          "output_type": "display_data",
          "data": {
            "image/png": "[encoded data removed]",
            "text/plain": [
              "<Figure size 432x288 with 1 Axes>"
            ]
          },
          "metadata": {
            "tags": [],
            "needs_background": "light"
          }
        }
      ]
    },
    {
      "cell_type": "code",
      "metadata": {
        "colab": {
          "base_uri": "https://localhost:8080/"
        },
        "id": "YhGJYuX3wN6z",
        "outputId": "cee3fa2c-5ce0-45b2-cbab-085fe3e44f7f"
      },
      "source": [
        "data.size"
      ],
      "execution_count": 5,
      "outputs": [
        {
          "output_type": "execute_result",
          "data": {
            "text/plain": [
              "100000"
            ]
          },
          "metadata": {
            "tags": []
          },
          "execution_count": 5
        }
      ]
    },
    {
      "cell_type": "code",
      "metadata": {
        "colab": {
          "base_uri": "https://localhost:8080/"
        },
        "id": "4fJUGneQww-J",
        "outputId": "1539bf38-49b9-44ec-cd5d-7c4a69eb6a33"
      },
      "source": [
        "print(\"Number of samples:\", data.size)\n",
        "print(\"Number of classes?:\",np.unique(data.sentiment.values).size)\n",
        "print(\"Classes:\",np.unique(data.sentiment.values))"
      ],
      "execution_count": 6,
      "outputs": [
        {
          "output_type": "stream",
          "text": [
            "Number of samples: 100000\n",
            "Number of classes?: 2\n",
            "Classes: ['negative' 'positive']\n"
          ],
          "name": "stdout"
        }
      ]
    },
    {
      "cell_type": "code",
      "metadata": {
        "colab": {
          "base_uri": "https://localhost:8080/",
          "height": 349
        },
        "id": "GIsG0-1qwUb4",
        "outputId": "fc1ab545-deb2-40dd-fbcc-11a7d63ce3a4"
      },
      "source": [
        "lengths = []\n",
        "for idx,row in data.iterrows():\n",
        "  lengths.append(len(row.review))\n",
        "lengths = pd.DataFrame(lengths,columns=['lengths'])\n",
        "print(\"Median # of words/sample:{}\".format(lengths.median()))\n",
        "lengths.hist()"
      ],
      "execution_count": 7,
      "outputs": [
        {
          "output_type": "stream",
          "text": [
            "Median # of words/sample:lengths    970.0\n",
            "dtype: float64\n"
          ],
          "name": "stdout"
        },
        {
          "output_type": "execute_result",
          "data": {
            "text/plain": [
              "array([[<matplotlib.axes._subplots.AxesSubplot object at 0x7fdc4e53e590>]],\n",
              "      dtype=object)"
            ]
          },
          "metadata": {
            "tags": []
          },
          "execution_count": 7
        },
        {
          "output_type": "display_data",
          "data": {
            "image/png": "[encoded data removed]",
            "text/plain": [
              "<Figure size 432x288 with 1 Axes>"
            ]
          },
          "metadata": {
            "tags": [],
            "needs_background": "light"
          }
        }
      ]
    },
    {
      "cell_type": "markdown",
      "metadata": {
        "id": "zZeuXN1R3_4r"
      },
      "source": [
        "### Extra Data Explore Step"
      ]
    },
    {
      "cell_type": "code",
      "metadata": {
        "colab": {
          "base_uri": "https://localhost:8080/"
        },
        "id": "Oq8h4HMDx96f",
        "outputId": "5f376030-a511-4ca3-e554-66400569716b"
      },
      "source": [
        "print(\"Mean # of words/sample:{}\".format(lengths.mean()))\n",
        "pos_lengths = []\n",
        "neg_lengths = []\n",
        "pos_uniques = []\n",
        "neg_uniques = []\n",
        "for idx,row in data.iterrows():\n",
        "  if data.sentiment.iloc[idx] == 'negative':\n",
        "    neg_lengths.append(len(row.review))\n",
        "    neg_uniques.append(len(set(row.review.split())))\n",
        "  else:\n",
        "    pos_lengths.append(len(row.review))\n",
        "    pos_uniques.append(len(set(row.review.split())))\n",
        "pos_lengths = pd.DataFrame(pos_lengths,columns=['lengths'])\n",
        "neg_lengths = pd.DataFrame(neg_lengths,columns=['lengths'])\n",
        "pos_uniques = pd.DataFrame(pos_uniques,columns=['lengths'])\n",
        "neg_uniques = pd.DataFrame(neg_uniques,columns=['lengths'])\n",
        "print(\"Median # of words/positive sample:{}\".format(pos_lengths.median()))\n",
        "print(\"Median # of words/negative sample:{}\".format(neg_lengths.median()))\n",
        "print(\"Mean # of words/positive sample:{}\".format(pos_lengths.mean()))\n",
        "print(\"Mean # of words/negative sample:{}\".format(neg_lengths.mean()))\n",
        "print()\n",
        "print(\"Median # of unique words/positive sample:{}\".format(pos_uniques.median()))\n",
        "print(\"Median # of unique words/negative sample:{}\".format(neg_uniques.median()))\n",
        "print(\"Mean # of unique words/positive sample:{}\".format(pos_uniques.mean()))\n",
        "print(\"Mean # of unique words/negative sample:{}\".format(neg_uniques.mean()))"
      ],
      "execution_count": 8,
      "outputs": [
        {
          "output_type": "stream",
          "text": [
            "Mean # of words/sample:lengths    1309.43102\n",
            "dtype: float64\n",
            "Median # of words/positive sample:lengths    968.0\n",
            "dtype: float64\n",
            "Median # of words/negative sample:lengths    973.0\n",
            "dtype: float64\n",
            "Mean # of words/positive sample:lengths    1324.79768\n",
            "dtype: float64\n",
            "Mean # of words/negative sample:lengths    1294.06436\n",
            "dtype: float64\n",
            "\n",
            "Median # of unique words/positive sample:lengths    122.0\n",
            "dtype: float64\n",
            "Median # of unique words/negative sample:lengths    124.0\n",
            "dtype: float64\n",
            "Mean # of unique words/positive sample:lengths    152.0156\n",
            "dtype: float64\n",
            "Mean # of unique words/negative sample:lengths    152.2662\n",
            "dtype: float64\n"
          ],
          "name": "stdout"
        }
      ]
    },
    {
      "cell_type": "markdown",
      "metadata": {
        "id": "ZSuguZ6u5lUl"
      },
      "source": [
        "## Data Preparation\n",
        "\n",
        "I'm providing you with code that cleans the reviews by making it all lowercase letters and removing stop words. The three cells below do this for you. I still want you to explain what you did with the data here. \n",
        "\n"
      ]
    },
    {
      "cell_type": "markdown",
      "metadata": {
        "id": "4k2g0zlC2ewv"
      },
      "source": [
        "### Data Prep Explaination\n",
        "The clean_review method uses regular expressions to remove anything that's not in the accepted dictionary from the passed in review, it then removes any stopwords from it given by the stopwords downloaded earlier. \\\n",
        "\n",
        "The following loop goes through every line in data and applies the clean_review function to it. \\\n",
        "\n",
        "Removing all of the extra non-useful information allows for vectorizing the actual useful data later on. \\\n"
      ]
    },
    {
      "cell_type": "code",
      "metadata": {
        "id": "tTEr6vRUgOUs"
      },
      "source": [
        "#This is a function that takes in a review, makes sure it is only lower case letters and removes stopwords.\n",
        "#It returns the cleaned review text.\n",
        "def clean_review(review):\n",
        "    #input is a string review\n",
        "    #return is review cleaned of all punctuation, lowercase, and removed nltk stopwords\n",
        "    letters_only = re.sub(\"[^a-zA-Z]\",\" \",review)\n",
        "    lower_case = letters_only.lower()\n",
        "    words = lower_case.split()\n",
        "    for stop_word in stopwords.words(\"english\"):\n",
        "        while stop_word in words:\n",
        "            words.remove(stop_word)\n",
        "    cleaned = \" \".join(words)\n",
        "    return cleaned"
      ],
      "execution_count": 12,
      "outputs": []
    },
    {
      "cell_type": "code",
      "metadata": {
        "id": "QEjHsILZgk9V"
      },
      "source": [
        "#process the data\n",
        "cleaned_text = []\n",
        "for i in range(len(data)):\n",
        "    cleaned_text.append(clean_review(data[\"review\"][i]))  "
      ],
      "execution_count": 13,
      "outputs": []
    },
    {
      "cell_type": "code",
      "metadata": {
        "id": "LMg3P0ZNBvGM"
      },
      "source": [
        "cleaned_text[:5]"
      ],
      "execution_count": null,
      "outputs": []
    },
    {
      "cell_type": "code",
      "metadata": {
        "id": "spDgSTvCg9wk"
      },
      "source": [
        "#establish training and testing dataset\n",
        "train_data, test_data, train_sln, test_sln = \\\n",
        "    train_test_split(cleaned_text, data['sentiment'], test_size = 0.2, random_state=0) "
      ],
      "execution_count": 15,
      "outputs": []
    },
    {
      "cell_type": "markdown",
      "metadata": {
        "id": "-86AHOAkDpge"
      },
      "source": [
        "### Vectorizing the data\n",
        "\n",
        "**CountVectorizer**: Convert a collection of text documents to a matrix of token counts"
      ]
    },
    {
      "cell_type": "code",
      "metadata": {
        "id": "nwmex98NDgqJ"
      },
      "source": [
        "#Bag of Words with 5000 most common words\n",
        "vectorizer = CountVectorizer(analyzer='word', max_features = 500)\n",
        "#find the right 5000 words\n",
        "vectorizer.fit(train_data)\n",
        "\n",
        "#use the vectorizer to transform review strings into word count vectors \n",
        "train_data_vectors = vectorizer.transform(train_data).toarray()\n",
        "test_data_vectors = vectorizer.transform(test_data).toarray()"
      ],
      "execution_count": 16,
      "outputs": []
    },
    {
      "cell_type": "markdown",
      "metadata": {
        "id": "djpB5om52G_x"
      },
      "source": [
        "The SVC took about 30 minutes to run and I didn't want to work around fixing it so I just left it as is and didn't tune this one, I did tune the other models though."
      ]
    },
    {
      "cell_type": "code",
      "metadata": {
        "colab": {
          "base_uri": "https://localhost:8080/"
        },
        "id": "uUSQcsLOEAec",
        "outputId": "622fe571-741b-4105-9c3d-2cd0de8b137c"
      },
      "source": [
        "## Now use train_data_vectors and test_data_vectors to train/test/tune your sklearn models.\n",
        "clf = SVC()\n",
        "clf.fit(train_data_vectors,train_sln)"
      ],
      "execution_count": 17,
      "outputs": [
        {
          "output_type": "execute_result",
          "data": {
            "text/plain": [
              "SVC(C=1.0, break_ties=False, cache_size=200, class_weight=None, coef0=0.0,\n",
              "    decision_function_shape='ovr', degree=3, gamma='scale', kernel='rbf',\n",
              "    max_iter=-1, probability=False, random_state=None, shrinking=True,\n",
              "    tol=0.001, verbose=False)"
            ]
          },
          "metadata": {
            "tags": []
          },
          "execution_count": 17
        }
      ]
    },
    {
      "cell_type": "code",
      "metadata": {
        "id": "2eIASMkQ2O4q"
      },
      "source": [
        "predictions = clf.predict(test_data_vectors)"
      ],
      "execution_count": 19,
      "outputs": []
    },
    {
      "cell_type": "code",
      "metadata": {
        "colab": {
          "base_uri": "https://localhost:8080/"
        },
        "id": "XtXX3G-U12cD",
        "outputId": "8432220e-dcf2-4b7e-efd2-6577adcd3ec1"
      },
      "source": [
        "print(\"accuracy:\", metrics.accuracy_score(test_sln, predictions))\n",
        "vals = data['sentiment'].unique() ## possible classification values\n",
        "conf_mat = metrics.confusion_matrix(test_sln, predictions, labels=vals)\n",
        "print(pd.DataFrame(conf_mat, index = \"T \" + vals, columns = \"Pred \" + vals))"
      ],
      "execution_count": 22,
      "outputs": [
        {
          "output_type": "stream",
          "text": [
            "accuracy: 0.8307\n",
            "            Pred positive  Pred negative\n",
            "T positive           4203            762\n",
            "T negative            931           4104\n"
          ],
          "name": "stdout"
        }
      ]
    },
    {
      "cell_type": "code",
      "metadata": {
        "colab": {
          "base_uri": "https://localhost:8080/"
        },
        "id": "nCheDxDs2uXJ",
        "outputId": "1ff0284b-722f-4f4d-de93-6ab45ed42239"
      },
      "source": [
        "print(metrics.classification_report(test_sln,predictions))"
      ],
      "execution_count": 31,
      "outputs": [
        {
          "output_type": "stream",
          "text": [
            "              precision    recall  f1-score   support\n",
            "\n",
            "    negative       0.84      0.82      0.83      5035\n",
            "    positive       0.82      0.85      0.83      4965\n",
            "\n",
            "    accuracy                           0.83     10000\n",
            "   macro avg       0.83      0.83      0.83     10000\n",
            "weighted avg       0.83      0.83      0.83     10000\n",
            "\n"
          ],
          "name": "stdout"
        }
      ]
    },
    {
      "cell_type": "code",
      "metadata": {
        "id": "xRxj2lqA4W63"
      },
      "source": [
        ""
      ],
      "execution_count": null,
      "outputs": []
    }
  ]
}